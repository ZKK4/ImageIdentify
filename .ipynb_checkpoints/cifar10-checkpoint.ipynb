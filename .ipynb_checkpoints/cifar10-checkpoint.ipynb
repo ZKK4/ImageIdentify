{
 "cells": [
  {
   "cell_type": "markdown",
   "metadata": {},
   "source": [
    "### 图像识别\n",
    "<img src='images/cifar10.png' />\n",
    "<br>\n",
    "该数据集共有60000张32*32*3的彩色图像，分为10个类，每类6000张图。50000张用作训练，10000张用作测试。\n",
    "<br>训练集中50000张图片，每个类别5000张。\n",
    "<br>测试集中10000张图片，每个类别1000张。"
   ]
  },
  {
   "cell_type": "code",
   "execution_count": 9,
   "metadata": {},
   "outputs": [],
   "source": [
    "import keras\n",
    "from keras.datasets import cifar10\n",
    "from keras.models import Sequential\n",
    "from keras.layers import Dense, Dropout, Flatten, Conv2D, MaxPooling2D\n",
    "from pathlib import Path\n",
    "\n",
    "import matplotlib.pyplot as plt\n",
    "%matplotlib inline"
   ]
  },
  {
   "cell_type": "code",
   "execution_count": 11,
   "metadata": {},
   "outputs": [],
   "source": [
    "# 加载数据集\n",
    "(x_train, y_train), (x_test, y_test) = cifar10.load_data()\n",
    "\n",
    "# 数据集归一化(0-1之间)\n",
    "x_train = x_train.astype('float32')\n",
    "x_test = x_test.astype('float32')\n",
    "x_train /= 255\n",
    "x_test /= 255"
   ]
  },
  {
   "cell_type": "code",
   "execution_count": 3,
   "metadata": {},
   "outputs": [],
   "source": [
    "# 标签转换为 One-Hot 编码\n",
    "y_train = keras.utils.to_categorical(y_train, 10)\n",
    "y_test = keras.utils.to_categorical(y_test, 10)"
   ]
  },
  {
   "cell_type": "code",
   "execution_count": 4,
   "metadata": {},
   "outputs": [],
   "source": [
    "# 定义CNN网络结构\n",
    "model = Sequential()\n",
    "\n",
    "model.add(Conv2D(32, (3, 3), padding='same', input_shape=(32, 32, 3), activation=\"relu\"))\n",
    "model.add(Conv2D(32, (3, 3), activation=\"relu\"))\n",
    "model.add(MaxPooling2D(pool_size=(2, 2)))\n",
    "model.add(Dropout(0.25))\n",
    "\n",
    "model.add(Conv2D(64, (3, 3), padding='same', activation=\"relu\"))\n",
    "model.add(Conv2D(64, (3, 3), activation=\"relu\"))\n",
    "model.add(MaxPooling2D(pool_size=(2, 2)))\n",
    "model.add(Flatten())\n",
    "model.add(Dropout(0.25))\n",
    "\n",
    "model.add(Dense(512, activation=\"relu\"))\n",
    "model.add(Dropout(0.5))\n",
    "\n",
    "model.add(Dense(10, activation=\"softmax\"))"
   ]
  },
  {
   "cell_type": "code",
   "execution_count": 5,
   "metadata": {},
   "outputs": [
    {
     "name": "stdout",
     "output_type": "stream",
     "text": [
      "_________________________________________________________________\n",
      "Layer (type)                 Output Shape              Param #   \n",
      "=================================================================\n",
      "conv2d_1 (Conv2D)            (None, 32, 32, 32)        896       \n",
      "_________________________________________________________________\n",
      "conv2d_2 (Conv2D)            (None, 30, 30, 32)        9248      \n",
      "_________________________________________________________________\n",
      "max_pooling2d_1 (MaxPooling2 (None, 15, 15, 32)        0         \n",
      "_________________________________________________________________\n",
      "dropout_1 (Dropout)          (None, 15, 15, 32)        0         \n",
      "_________________________________________________________________\n",
      "conv2d_3 (Conv2D)            (None, 15, 15, 64)        18496     \n",
      "_________________________________________________________________\n",
      "conv2d_4 (Conv2D)            (None, 13, 13, 64)        36928     \n",
      "_________________________________________________________________\n",
      "max_pooling2d_2 (MaxPooling2 (None, 6, 6, 64)          0         \n",
      "_________________________________________________________________\n",
      "flatten_1 (Flatten)          (None, 2304)              0         \n",
      "_________________________________________________________________\n",
      "dropout_2 (Dropout)          (None, 2304)              0         \n",
      "_________________________________________________________________\n",
      "dense_1 (Dense)              (None, 512)               1180160   \n",
      "_________________________________________________________________\n",
      "dropout_3 (Dropout)          (None, 512)               0         \n",
      "_________________________________________________________________\n",
      "dense_2 (Dense)              (None, 10)                5130      \n",
      "=================================================================\n",
      "Total params: 1,250,858\n",
      "Trainable params: 1,250,858\n",
      "Non-trainable params: 0\n",
      "_________________________________________________________________\n"
     ]
    }
   ],
   "source": [
    "# 编译CNN模型\n",
    "model.compile(\n",
    "    loss='categorical_crossentropy',\n",
    "    optimizer='adam',\n",
    "    metrics=['accuracy']\n",
    ")\n",
    "model.summary()"
   ]
  },
  {
   "cell_type": "code",
   "execution_count": 6,
   "metadata": {},
   "outputs": [
    {
     "name": "stdout",
     "output_type": "stream",
     "text": [
      "Train on 50000 samples, validate on 10000 samples\n",
      "Epoch 1/30\n",
      "50000/50000 [==============================] - 129s 3ms/step - loss: 1.5606 - acc: 0.4269 - val_loss: 1.1651 - val_acc: 0.5851\n",
      "Epoch 2/30\n",
      "50000/50000 [==============================] - 128s 3ms/step - loss: 1.1701 - acc: 0.5845 - val_loss: 0.9537 - val_acc: 0.6667\n",
      "Epoch 3/30\n",
      "50000/50000 [==============================] - 129s 3ms/step - loss: 0.9903 - acc: 0.6517 - val_loss: 0.9160 - val_acc: 0.6809\n",
      "Epoch 4/30\n",
      "50000/50000 [==============================] - 128s 3ms/step - loss: 0.8856 - acc: 0.6886 - val_loss: 0.8036 - val_acc: 0.7276\n",
      "Epoch 5/30\n",
      "50000/50000 [==============================] - 128s 3ms/step - loss: 0.8081 - acc: 0.7163 - val_loss: 0.7633 - val_acc: 0.7373\n",
      "Epoch 6/30\n",
      "50000/50000 [==============================] - 128s 3ms/step - loss: 0.7533 - acc: 0.7346 - val_loss: 0.7121 - val_acc: 0.7552\n",
      "Epoch 7/30\n",
      "50000/50000 [==============================] - 128s 3ms/step - loss: 0.7075 - acc: 0.7512 - val_loss: 0.6923 - val_acc: 0.7614\n",
      "Epoch 8/30\n",
      "50000/50000 [==============================] - 127s 3ms/step - loss: 0.6626 - acc: 0.7661 - val_loss: 0.7022 - val_acc: 0.7622\n",
      "Epoch 9/30\n",
      "50000/50000 [==============================] - 127s 3ms/step - loss: 0.6394 - acc: 0.7754 - val_loss: 0.6910 - val_acc: 0.7651\n",
      "Epoch 10/30\n",
      "50000/50000 [==============================] - 127s 3ms/step - loss: 0.6102 - acc: 0.7854 - val_loss: 0.6560 - val_acc: 0.7789\n",
      "Epoch 11/30\n",
      "50000/50000 [==============================] - 128s 3ms/step - loss: 0.5913 - acc: 0.7910 - val_loss: 0.6373 - val_acc: 0.7800\n",
      "Epoch 12/30\n",
      "50000/50000 [==============================] - 128s 3ms/step - loss: 0.5630 - acc: 0.8017 - val_loss: 0.6324 - val_acc: 0.7866\n",
      "Epoch 13/30\n",
      "50000/50000 [==============================] - 128s 3ms/step - loss: 0.5472 - acc: 0.8080 - val_loss: 0.6208 - val_acc: 0.7889\n",
      "Epoch 14/30\n",
      "50000/50000 [==============================] - 127s 3ms/step - loss: 0.5256 - acc: 0.8150 - val_loss: 0.6246 - val_acc: 0.7928\n",
      "Epoch 15/30\n",
      "50000/50000 [==============================] - 126s 3ms/step - loss: 0.5075 - acc: 0.8171 - val_loss: 0.6732 - val_acc: 0.7806\n",
      "Epoch 16/30\n",
      "50000/50000 [==============================] - 125s 3ms/step - loss: 0.4896 - acc: 0.8289 - val_loss: 0.6269 - val_acc: 0.7929\n",
      "Epoch 17/30\n",
      "50000/50000 [==============================] - 126s 3ms/step - loss: 0.4820 - acc: 0.8288 - val_loss: 0.6447 - val_acc: 0.7895\n",
      "Epoch 18/30\n",
      "50000/50000 [==============================] - 125s 3ms/step - loss: 0.4609 - acc: 0.8369 - val_loss: 0.6244 - val_acc: 0.7926\n",
      "Epoch 19/30\n",
      "50000/50000 [==============================] - 125s 3ms/step - loss: 0.4475 - acc: 0.8412 - val_loss: 0.6233 - val_acc: 0.7971\n",
      "Epoch 20/30\n",
      "50000/50000 [==============================] - 125s 2ms/step - loss: 0.4508 - acc: 0.8399 - val_loss: 0.6321 - val_acc: 0.7936\n",
      "Epoch 21/30\n",
      "50000/50000 [==============================] - 126s 3ms/step - loss: 0.4385 - acc: 0.8450 - val_loss: 0.6236 - val_acc: 0.8002\n",
      "Epoch 22/30\n",
      "50000/50000 [==============================] - 125s 3ms/step - loss: 0.4228 - acc: 0.8504 - val_loss: 0.6408 - val_acc: 0.7984\n",
      "Epoch 23/30\n",
      "50000/50000 [==============================] - 125s 3ms/step - loss: 0.4136 - acc: 0.8524 - val_loss: 0.6422 - val_acc: 0.7862\n",
      "Epoch 24/30\n",
      "50000/50000 [==============================] - 126s 3ms/step - loss: 0.4068 - acc: 0.8560 - val_loss: 0.6458 - val_acc: 0.7932\n",
      "Epoch 25/30\n",
      "50000/50000 [==============================] - 129s 3ms/step - loss: 0.3997 - acc: 0.8602 - val_loss: 0.6235 - val_acc: 0.7946\n",
      "Epoch 26/30\n",
      "50000/50000 [==============================] - 128s 3ms/step - loss: 0.4011 - acc: 0.8565 - val_loss: 0.6590 - val_acc: 0.7917\n",
      "Epoch 27/30\n",
      "50000/50000 [==============================] - 128s 3ms/step - loss: 0.3840 - acc: 0.8636 - val_loss: 0.6338 - val_acc: 0.7995\n",
      "Epoch 28/30\n",
      "50000/50000 [==============================] - 127s 3ms/step - loss: 0.3873 - acc: 0.8638 - val_loss: 0.6274 - val_acc: 0.7965\n",
      "Epoch 29/30\n",
      "50000/50000 [==============================] - 127s 3ms/step - loss: 0.3753 - acc: 0.8668 - val_loss: 0.6250 - val_acc: 0.8018\n",
      "Epoch 30/30\n",
      "50000/50000 [==============================] - 127s 3ms/step - loss: 0.3730 - acc: 0.8690 - val_loss: 0.6263 - val_acc: 0.8041\n"
     ]
    }
   ],
   "source": [
    "# 训练CNN模型\n",
    "history = model.fit(\n",
    "    x_train,\n",
    "    y_train,\n",
    "    batch_size=64,\n",
    "    epochs=30,\n",
    "    validation_data=(x_test, y_test),\n",
    "    shuffle=True\n",
    ")"
   ]
  },
  {
   "cell_type": "code",
   "execution_count": 7,
   "metadata": {},
   "outputs": [
    {
     "data": {
      "image/png": "[encoded data removed]",
      "text/plain": [
       "<Figure size 432x288 with 1 Axes>"
      ]
     },
     "metadata": {
      "needs_background": "light"
     },
     "output_type": "display_data"
    },
    {
     "data": {
      "image/png": "[encoded data removed]",
      "text/plain": [
       "<Figure size 432x288 with 1 Axes>"
      ]
     },
     "metadata": {
      "needs_background": "light"
     },
     "output_type": "display_data"
    }
   ],
   "source": [
    "# 模型在训练集和验证集上的预测准确率变化曲线\n",
    "plt.plot(history.history['acc'])\n",
    "plt.plot(history.history['val_acc'])\n",
    "plt.title('Model accuracy')\n",
    "plt.ylabel('Accuracy')\n",
    "plt.xlabel('Epoch')\n",
    "plt.legend(['Train', 'Test'], loc='upper left')\n",
    "plt.savefig(\"accuracy.png\")\n",
    "plt.show()\n",
    "\n",
    "# 模型在训练集和验证集上的损失函数曲线\n",
    "plt.plot(history.history['loss'])\n",
    "plt.plot(history.history['val_loss'])\n",
    "plt.title('Model loss')\n",
    "plt.ylabel('Loss')\n",
    "plt.xlabel('Epoch')\n",
    "plt.legend(['Train', 'Test'], loc='upper left')\n",
    "plt.savefig(\"loss.png\")\n",
    "plt.show()"
   ]
  },
  {
   "cell_type": "code",
   "execution_count": 8,
   "metadata": {},
   "outputs": [],
   "source": [
    "# 保存CNN网络结构\n",
    "model_structure = model.to_json()\n",
    "f = Path(\"model_structure.json\")\n",
    "f.write_text(model_structure)\n",
    "\n",
    "# 保存训练好的权重参数\n",
    "model.save_weights(\"model_weights.h5\")"
   ]
  }
 ],
 "metadata": {
  "kernelspec": {
   "display_name": "Python 3",
   "language": "python",
   "name": "python3"
  },
  "language_info": {
   "codemirror_mode": {
    "name": "ipython",
    "version": 3
   },
   "file_extension": ".py",
   "mimetype": "text/x-python",
   "name": "python",
   "nbconvert_exporter": "python",
   "pygments_lexer": "ipython3",
   "version": "3.6.8"
  }
 },
 "nbformat": 4,
 "nbformat_minor": 2
}

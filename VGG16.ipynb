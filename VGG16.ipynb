{
 "cells": [
  {
   "cell_type": "code",
   "execution_count": 1,
   "metadata": {},
   "outputs": [
    {
     "name": "stderr",
     "output_type": "stream",
     "text": [
      "Using TensorFlow backend.\n"
     ]
    }
   ],
   "source": [
    "import numpy as np\n",
    "from keras.preprocessing import image\n",
    "from keras.applications import vgg16\n",
    "import matplotlib.pyplot as plt\n",
    "%matplotlib inline\n"
   ]
  },
  {
   "cell_type": "code",
   "execution_count": null,
   "metadata": {},
   "outputs": [
    {
     "name": "stdout",
     "output_type": "stream",
     "text": [
      "Downloading data from https://github.com/fchollet/deep-learning-models/releases/download/v0.1/vgg16_weights_tf_dim_ordering_tf_kernels.h5\n",
      "135471104/553467096 [======>.......................] - ETA: 19:56"
     ]
    }
   ],
   "source": [
    "\n",
    "# 加载 Keras' VGG16 模型，此模型已经在 ImageNet 数据集训练完成\n",
    "model = vgg16.VGG16()\n",
    "\n",
    "# 加载图片文件，将其缩放为 224x224 pixels (required by this model)\n",
    "img = image.load_img(\"frog-2.png\", target_size=(224, 224))\n",
    "\n",
    "# 转换图像为三维数组\n",
    "x = image.img_to_array(img)\n",
    "\n",
    "image_to_array = x.astype('int32')\n",
    "plt.imshow(image_to_array); \n",
    "\n",
    "# 增加第四维表示样本集 (因为模型需要一次喂入一个样本集)\n",
    "x = np.expand_dims(x, axis=0)\n",
    "\n",
    "# 数据归一化和预处理\n",
    "x = vgg16.preprocess_input(x)\n",
    "\n",
    "# 用模型做预测\n",
    "predictions = model.predict(x)\n",
    "\n",
    "# 返回预测结果\n",
    "predicted_classes = vgg16.decode_predictions(predictions)\n",
    "\n",
    "print(\"该图片前五个预测值为:\")\n",
    "\n",
    "for imagenet_id, name, likelihood in predicted_classes[0]:\n",
    "    print(\"预测为: {} -  概率为：{:2f}\".format(name, likelihood))\n"
   ]
  },
  {
   "cell_type": "code",
   "execution_count": null,
   "metadata": {},
   "outputs": [],
   "source": []
  },
  {
   "cell_type": "code",
   "execution_count": null,
   "metadata": {},
   "outputs": [],
   "source": []
  }
 ],
 "metadata": {
  "kernelspec": {
   "display_name": "Python 3",
   "language": "python",
   "name": "python3"
  },
  "language_info": {
   "codemirror_mode": {
    "name": "ipython",
    "version": 3
   },
   "file_extension": ".py",
   "mimetype": "text/x-python",
   "name": "python",
   "nbconvert_exporter": "python",
   "pygments_lexer": "ipython3",
   "version": "3.6.8"
  }
 },
 "nbformat": 4,
 "nbformat_minor": 2
}
